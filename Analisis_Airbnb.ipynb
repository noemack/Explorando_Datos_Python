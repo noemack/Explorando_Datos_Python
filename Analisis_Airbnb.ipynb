{
  "cells": [
    {
      "cell_type": "markdown",
      "metadata": {
        "id": "LJIcebeKVsn1"
      },
      "source": [
        "# Dentro de Airbnb, explorando conjunto de datos\n"
      ]
    },
    {
      "cell_type": "markdown",
      "metadata": {
        "id": "_RIAes7kh9n9"
      },
      "source": [
        "**Explorando Buenos Aires a través de los Datos de Airbnb (Julio-Agosto- Septiembre 2023)**\n",
        "\n",
        "Buenos Aires, Argentina, es una ciudad que nunca deja de sorprender. En el invierno de 2023, miles de viajeros exploraron sus calles, disfrutaron de su cultura y se sumergieron en experiencias únicas. Descubriremos esta hermosa ciudad a través de los datos de Airbnb recopilados durante el trimestre de julio a septiembre de 2023.\n",
        "En este informe, abordaremos el proceso de análisis y responderemos algunas preguntas claves.\n",
        "\n",
        "Antes de comenzar cualquier análisis, es fundamental identificar las fuentes de datos disponibles.\n",
        "\n",
        "ref: http://insideairbnb.com/get-the-data/\n",
        "\n",
        "El siguiente conjunto de datos que exploraremos contiene datos sobre Airbnb en Buenos Aires, Argentina, (Período: Julio - Agosto - Septiembre 2023).\n",
        "Información resumida y métricas para Buenos Aires.\n",
        "\n",
        "`argentina.csv`\n",
        "\n",
        "Trataremos de obtener algunas respuestas:\n",
        "- Total de alojamientos realizados\n",
        "- Alojamientos por tipo de habitación\n",
        "- Cantidad de propietarios\n",
        "- Promedio del precio\n",
        "- Promedio del precio por tipo de alojamiento\n",
        "- Promedio de ingresos\n",
        "- Cantidad y % de alojamientos relizados por barrio\n",
        "- Cantidad de alojamientos que tuvo cada anfitrión\n",
        "- % de propietarios con un alojamiento\n",
        "- Anfitriones Top\n",
        "- Mapa interactivo de los alojamientos realizados en BsAs\n",
        "- Algunas conclusiones...\n",
        "- Visualización final"
      ]
    },
    {
      "cell_type": "markdown",
      "metadata": {
        "id": "IE1XmUdClOhU"
      },
      "source": [
        "## 1- Descarga de los datos"
      ]
    },
    {
      "cell_type": "markdown",
      "metadata": {
        "id": "cuhlHjpdlXey"
      },
      "source": [
        "Librerías"
      ]
    },
    {
      "cell_type": "code",
      "execution_count": null,
      "metadata": {
        "id": "45DvjzhxVg_c"
      },
      "outputs": [],
      "source": [
        "# importar los módulos para el análisis de datos: pandas y numpy\n",
        "import numpy as np  # para cálculos en Python\n",
        "import pandas as pd # para estructura de datos\n",
        "import plotly.express as px\n",
        "import matplotlib.pyplot as plt\n",
        "import seaborn as sns\n",
        "import ipywidgets as widgets\n",
        "from IPython.display import display"
      ]
    },
    {
      "cell_type": "code",
      "execution_count": null,
      "metadata": {
        "id": "gjwbgVT0l2eP"
      },
      "outputs": [],
      "source": [
        "## seleccionar la ruta del dataset \"df_argentina.csv\"\n",
        "path='.../argentina.csv'\n",
        "df_argentina = pd.read_csv(path)\n",
        "print('Datos descargados y leídos con éxito!')"
      ]
    },
    {
      "cell_type": "code",
      "execution_count": null,
      "metadata": {
        "id": "vHKZMH_WnQ2D"
      },
      "outputs": [],
      "source": [
        "# osbservamos los primeros cinco elementos\n",
        "df_argentina.head()"
      ]
    },
    {
      "cell_type": "code",
      "execution_count": null,
      "metadata": {
        "id": "UmFUHMXAndcA"
      },
      "outputs": [],
      "source": [
        "# los últimos cinco elementos\n",
        "df_argentina.tail()"
      ]
    },
    {
      "cell_type": "code",
      "execution_count": null,
      "metadata": {
        "id": "HY80SI8gnvsD"
      },
      "outputs": [],
      "source": [
        "# analizamos la dimensión del dataframe\n",
        "print(df_argentina.shape)"
      ]
    },
    {
      "cell_type": "code",
      "execution_count": null,
      "metadata": {
        "id": "WNiGEN4Nn5zj"
      },
      "outputs": [],
      "source": [
        "# breve resumen del dataframe\n",
        "df_argentina.info(verbose=False)"
      ]
    },
    {
      "cell_type": "code",
      "execution_count": null,
      "metadata": {
        "id": "Ert5c1CIoGzT"
      },
      "outputs": [],
      "source": [
        "# información general del dataframe\n",
        "print('Cantidad de Filas y columnas:', df_argentina.shape, '\\n')\n",
        "print('Nombre de las columnas:',df_argentina.columns, '\\n')\n",
        "print('Información sobre el dataset:', '\\n')\n",
        "df_argentina.info()"
      ]
    },
    {
      "cell_type": "code",
      "execution_count": null,
      "metadata": {
        "id": "JSKFI18uofp9"
      },
      "outputs": [],
      "source": [
        "# índices utilizados\n",
        "df_argentina.index"
      ]
    },
    {
      "cell_type": "markdown",
      "metadata": {
        "id": "XO4y0ESMd7ay"
      },
      "source": [
        "## 2- Limpieza de los datos"
      ]
    },
    {
      "cell_type": "code",
      "execution_count": null,
      "metadata": {
        "id": "7cN5HAimophr"
      },
      "outputs": [],
      "source": [
        "# buscar duplicados\n",
        "df_argentina.duplicated().value_counts"
      ]
    },
    {
      "cell_type": "code",
      "execution_count": null,
      "metadata": {
        "id": "1Dg3OBv3oyC2"
      },
      "outputs": [],
      "source": [
        "# identificar valores faltantes\n",
        "df_argentina.isnull().values.any()"
      ]
    },
    {
      "cell_type": "markdown",
      "metadata": {
        "id": "UpqE0qtEI6wl"
      },
      "source": [
        "Dado que el resultado es True podemos confirmar que existen valores faltantes.\n",
        "Visualicemos a continación cuales son las columnas con valores faltantes."
      ]
    },
    {
      "cell_type": "code",
      "execution_count": null,
      "metadata": {
        "id": "dhvyKvuapIpC"
      },
      "outputs": [],
      "source": [
        "print(df_argentina.isnull().sum())"
      ]
    },
    {
      "cell_type": "markdown",
      "metadata": {
        "id": "8XfqfoupHJbU"
      },
      "source": [
        "Según el resultado, podemos afirmar que:\n",
        "\n",
        "- La variable **\"neighbourhood_group\"** contiene **29,346 registros vacíos**.\n",
        "- La variable **\"last_review\"** contiene **5,505 registros vacíos**.\n",
        "- La variable **\"reviews_per_month\"** contiene **5,505 registros vacíos**.\n",
        "- La variable **\"license\"** contiene **28,901 registros vacíos**.\n",
        "\n",
        "\n"
      ]
    },
    {
      "cell_type": "markdown",
      "metadata": {
        "id": "0-snKsJ3J9D6"
      },
      "source": [
        "Veamos los valores únicos para cada columna.\n",
        "El resultado proporciona información valiosa sobre la diversidad de valores en cada columna del conjunto de datos."
      ]
    },
    {
      "cell_type": "code",
      "execution_count": null,
      "metadata": {
        "id": "_Ry5Ot4XJqZY"
      },
      "outputs": [],
      "source": [
        "# valores únicos para cada columna\n",
        "df_argentina.nunique()"
      ]
    },
    {
      "cell_type": "markdown",
      "metadata": {
        "id": "6BR3IcylKlkQ"
      },
      "source": [
        "Contemos cuántas columnas existen de tipo numérico y cuántas de tipo objeto. En total tiene que haber 18 columnas."
      ]
    },
    {
      "cell_type": "code",
      "execution_count": null,
      "metadata": {
        "id": "FT3AoErlKT6b"
      },
      "outputs": [],
      "source": [
        "# contar tipos de datos\n",
        "numericos = df_argentina.select_dtypes(include=['int', 'float']).shape[1]\n",
        "objetos = df_argentina.select_dtypes(include='object').shape[1]\n",
        "print(f\"Número de columnas numéricas: {numericos}\")\n",
        "print(f\"Número de columnas de tipo objeto: {objetos}\")"
      ]
    },
    {
      "cell_type": "markdown",
      "metadata": {
        "id": "6q6b7d7UIFmD"
      },
      "source": [
        "Eliminaremos a continuación las columnas que no necesitamos para nuestro análisis"
      ]
    },
    {
      "cell_type": "code",
      "execution_count": null,
      "metadata": {
        "id": "kGXokujRLBQE"
      },
      "outputs": [],
      "source": [
        "# eliminamos las columnas\n",
        "df_argentina.drop(['neighbourhood_group', 'last_review', 'reviews_per_month', 'number_of_reviews_ltm', 'license'], axis=1, inplace=True)\n",
        "\n",
        "# visualizamos nuevamente el dataframe para ver los cambios\n",
        "df_argentina.head()"
      ]
    },
    {
      "cell_type": "code",
      "execution_count": null,
      "metadata": {
        "id": "x-17Dr9EOTwW"
      },
      "outputs": [],
      "source": [
        "# visualizamos nuevamente la dimensión del dataframe, para chequear que tenga 5 columnas menos (de 18 a 13)\n",
        "print('dimensión de los datos:', df_argentina.shape)"
      ]
    },
    {
      "cell_type": "markdown",
      "metadata": {
        "id": "b1_N1RuiYnAl"
      },
      "source": [
        "Cambiemos el nombre de las columnas para un mejor entendimiento de los datos"
      ]
    },
    {
      "cell_type": "code",
      "execution_count": null,
      "metadata": {
        "id": "L0zFv9cOYxcP"
      },
      "outputs": [],
      "source": [
        "# cambiar nombre de las columnas\n",
        "df_argentina.rename(columns={'name':'nombre', 'host_id':'id_anfitrion', 'host_name':'nombre_anfitrion', 'neighbourhood':'barrio', 'room_type':'tipo_habitacion', 'price':'precio', 'minimum_nights':'minimo_noches', 'number_of_reviews':'numero_reseñas', 'availability_365':'disponibilidad'}, inplace=True)\n",
        "df_argentina.head()"
      ]
    },
    {
      "cell_type": "markdown",
      "metadata": {
        "id": "fujApSLlMfQQ"
      },
      "source": [
        "Visualicemos los tipos de datos de nuestro df para verificar."
      ]
    },
    {
      "cell_type": "code",
      "execution_count": null,
      "metadata": {
        "id": "pEOh51HCKGyF"
      },
      "outputs": [],
      "source": [
        "# tipos de datos por columna\n",
        "print(df_argentina.dtypes)"
      ]
    },
    {
      "cell_type": "markdown",
      "metadata": {
        "id": "Tb6W4g3DM1wI"
      },
      "source": [
        "Chequear que todas las etiquetas de las columnas sean de tipo string, para asegurar la coherencia"
      ]
    },
    {
      "cell_type": "code",
      "execution_count": null,
      "metadata": {
        "id": "utLzH-3LM2nA"
      },
      "outputs": [],
      "source": [
        "# chequeamos los tipos de etiqueta\n",
        "all(isinstance(column, str) for column in df_argentina.columns)"
      ]
    },
    {
      "cell_type": "markdown",
      "metadata": {
        "id": "RE48lAm9Q1Kk"
      },
      "source": [
        "El resultado True es una confirmación de que los nombres de las columnas en el DataFrame son cadenas de texto, lo cual es el tipo de dato esperado para las etiquetas de las columnas en la mayoría de los DataFrames de pandas. Esto es importante para garantizar que las operaciones y análisis posteriores del DataFrame se realicen de manera adecuada y consistente."
      ]
    },
    {
      "cell_type": "code",
      "execution_count": null,
      "metadata": {
        "id": "owClPjqs5lGp"
      },
      "outputs": [],
      "source": [
        "print(\"\\nResumen estadístico:\")\n",
        "print(df_argentina.describe())"
      ]
    },
    {
      "cell_type": "markdown",
      "metadata": {
        "id": "Do5ZOdE_UFcP"
      },
      "source": [
        "El resumen estadístico proporciona información valiosa sobre las características de las columnas numéricas del conjunto de datos.\n",
        "\n",
        "Algunas observaciones:\n",
        "\n",
        "- La columna \"precio\" tiene un valor medio (media) de aproximadamente 24,780.22 y una desviación estándar significativamente alta, lo que indica una gran variabilidad en los precios de los alojamientos.\n",
        "\n",
        "- La columna \"minimo_noches\" tiene un valor mínimo de 1 y un valor máximo de 1,000, lo que sugiere una variabilidad significativa en los requisitos de estadías mínimas.\n",
        "\n",
        "- La columna \"numero_reseñas\" tiene un valor medio de alrededor de 22.12 y una desviación estándar considerable, lo que indica una variabilidad en la cantidad de reseñas.\n",
        "\n",
        "- La columna \"disponibilidad\" tiene un valor mínimo de 0 y un valor máximo de 365, lo que sugiere que existen alojamientos con disponibilidad durante todo el año."
      ]
    },
    {
      "cell_type": "code",
      "execution_count": null,
      "metadata": {
        "id": "DQ_U5Z8pWFRP"
      },
      "outputs": [],
      "source": [
        "df_filtrado = df_argentina[df_argentina['minimo_noches'] >=999]\n",
        "df_filtrado"
      ]
    },
    {
      "cell_type": "markdown",
      "metadata": {
        "id": "P66Ib8iJeKek"
      },
      "source": [
        "## 3- Exploración de los datos y visualizaciones"
      ]
    },
    {
      "cell_type": "markdown",
      "metadata": {
        "id": "v-J6YYc_d4IM"
      },
      "source": [
        "Comencemos a responder algunas preguntas:"
      ]
    },
    {
      "cell_type": "markdown",
      "metadata": {
        "id": "RBL2Q_fFeWj7"
      },
      "source": [
        "### ↪ Total de alojamientos realizados"
      ]
    },
    {
      "cell_type": "markdown",
      "metadata": {
        "id": "AtV-fnswflLE"
      },
      "source": [
        "Cantidad total de alojamientos realizados en el período (trimestre: julio-agosto-setiembre 2023)"
      ]
    },
    {
      "cell_type": "code",
      "execution_count": null,
      "metadata": {
        "id": "W7wtD_Kxeckp"
      },
      "outputs": [],
      "source": [
        "# Calcular la cantidad total de alojamientos que se han realizado\n",
        "total_alojamientos = df_argentina.shape[0]\n",
        "\n",
        "# Mostrar la cantidad total de alojamientos\n",
        "print(f\"La cantidad total de alojamientos es: {total_alojamientos}\")"
      ]
    },
    {
      "cell_type": "markdown",
      "metadata": {
        "id": "NTBN7L42fPOQ"
      },
      "source": [
        "### ↪ Alojamientos por tipo de habitación"
      ]
    },
    {
      "cell_type": "markdown",
      "metadata": {
        "id": "q09QTzNxp1Or"
      },
      "source": [
        "Los anfitriones de Airbnb pueden publicar casas/apartamentos completos, habitaciones privadas, compartidas y más...\n",
        "\n",
        "En el análisis de datos de Airbnb, una parte fundamental es entender la distribución de los diferentes tipos de habitación que los anfitriones ofrecen a los huéspedes. Este análisis arroja luz sobre las preferencias de alojamiento y puede ser útil tanto para los anfitriones que desean tomar decisiones informadas sobre sus listados como para los viajeros que buscan la opción que mejor se adapte a sus necesidades. El conjunto de datos que estamos examinando proporciona información detallada sobre la cantidad y el porcentaje de cada tipo de habitación ofrecida.\n",
        "\n",
        "Analicemos los tipos de alojamientos del dataframe."
      ]
    },
    {
      "cell_type": "code",
      "execution_count": null,
      "metadata": {
        "id": "l7e7COr1qBpb"
      },
      "outputs": [],
      "source": [
        "# Calcular la cantidad por tipo de habitación\n",
        "cant_tipo_habitacion = df_argentina['tipo_habitacion'].value_counts()\n",
        "\n",
        "# Calcular el porcentaje por tipo de habitación\n",
        "porc_tipo_habitacion = (cant_tipo_habitacion / len(df_argentina)) * 100\n",
        "\n",
        "# Crear un nuevo DataFrame con los resultados\n",
        "df_resultado = pd.DataFrame({\n",
        "    'Tipo de Habitación': cant_tipo_habitacion.index,\n",
        "    'Cantidad': cant_tipo_habitacion.values,\n",
        "    'Porcentaje (%)': porc_tipo_habitacion.values\n",
        "})\n",
        "\n",
        "# Ordenar el DataFrame por cantidad en orden descendente\n",
        "df_resultado = df_resultado.sort_values(by='Cantidad', ascending=False)\n",
        "\n",
        "# Mostrar el resultado\n",
        "print(df_resultado)\n"
      ]
    },
    {
      "cell_type": "markdown",
      "metadata": {
        "id": "EJaoTYtn3bZb"
      },
      "source": [
        "Creamos un gráfico para visualizar mejor los resultados"
      ]
    },
    {
      "cell_type": "code",
      "execution_count": null,
      "metadata": {
        "id": "8daVLhvSs_Co"
      },
      "outputs": [],
      "source": [
        "# Crear un gráfico de barras interactivo\n",
        "fig = px.bar(df_resultado, x='Tipo de Habitación', y='Cantidad', text='Porcentaje (%)',\n",
        "             title='Cantidad y Porcentaje por Tipo de Habitación (trimestre julio - agosto - setiembre 2023)')\n",
        "\n",
        "# Personalizar el diseño del gráfico\n",
        "fig.update_traces(texttemplate='%{text:.2f}%', textposition='outside')\n",
        "\n",
        "# Mostrar el gráfico interactivo\n",
        "fig.show()"
      ]
    },
    {
      "cell_type": "markdown",
      "metadata": {
        "id": "zJKIChKgzb9t"
      },
      "source": [
        "**Resumen de la Distribución de Tipos de Habitación en Airbnb**\n",
        "\n",
        "El conjunto de datos revela que hay cuatro tipos principales de habitaciones ofrecidas en Airbnb, cada uno con su propia participación en el mercado:\n",
        "\n",
        "- **Hogar o Apartamento Completo (Entire home/apt):**\n",
        "   - Cantidad: 26,467\n",
        "   - Porcentaje: 90.19%\n",
        "\n",
        "- **Habitación Privada (Private room):**\n",
        "   - Cantidad: 2,565\n",
        "   - Porcentaje: 8.74%\n",
        "\n",
        "- **Habitación Compartida (Shared room):**\n",
        "   - Cantidad: 215\n",
        "   - Porcentaje: 0.73%\n",
        "\n",
        "- **Habitación de Hotel (Hotel room):**\n",
        "   - Cantidad: 99\n",
        "   - Porcentaje: 0.34%"
      ]
    },
    {
      "cell_type": "markdown",
      "metadata": {
        "id": "EweehU6Qzq6_"
      },
      "source": [
        "**Interpretación y Conclusiones:**\n",
        "\n",
        "- **Hogar o Apartamento Completo:** El tipo \"Entire home/apt\" es claramente el tipo de habitación más popular, representando el 90.19% de todas las ofertas. Esto indica que la mayoría de los anfitriones optan por alquilar sus viviendas completas, lo que sugiere que los viajeros pueden estar buscando privacidad y espacio para sí mismos.\n",
        "\n",
        "- **Preferencia por Habitaciones Privadas:** Las \"Private rooms\" también tienen una presencia significativa, con un 8.74% de las ofertas. Esto indica que hay una demanda considerable de habitaciones privadas dentro de los hogares de los anfitriones, posiblemente para viajeros que buscan un equilibrio entre privacidad y presupuesto.\n",
        "\n",
        "- **Habitaciones Compartidas y de Hotel:** Las \"Shared rooms\" y las \"Hotel rooms\" representan una proporción relativamente pequeña del mercado, con 0.73% y 0.34%, respectivamente. Esto sugiere que estos tipos de alojamiento pueden no ser tan populares entre los viajeros, ya que las preferencias se inclinan hacia opciones más privadas.\n"
      ]
    },
    {
      "cell_type": "markdown",
      "metadata": {
        "id": "bdJSyj963wJr"
      },
      "source": [
        "### ↪ Cantidad de propietarios"
      ]
    },
    {
      "cell_type": "code",
      "execution_count": null,
      "metadata": {
        "id": "j0pbJgJ822rg"
      },
      "outputs": [],
      "source": [
        "# Calcular la cantidad de propietarios únicos reflejados en el set de datos\n",
        "cantidad_propietarios = df_argentina['id_anfitrion'].nunique()\n",
        "\n",
        "print(\"Cantidad de propietarios:\", cantidad_propietarios)"
      ]
    },
    {
      "cell_type": "markdown",
      "metadata": {
        "id": "0Rk27VfsENE-"
      },
      "source": [
        "El resultado muestra que en el conjunto de datos, hay un total de 14958 propietarios únicos. Esto significa que hay 14958 personas o entidades diferentes que han listado propiedades en Airbnb en este caso en la ciudad de Buenos Aires en el trimestre."
      ]
    },
    {
      "cell_type": "markdown",
      "metadata": {
        "id": "q9S8jqdQ4K13"
      },
      "source": [
        "### ↪ Calculamos el promedio del precio"
      ]
    },
    {
      "cell_type": "code",
      "execution_count": null,
      "metadata": {
        "id": "l4rInQ1k4zQS"
      },
      "outputs": [],
      "source": [
        "# Calcular el promedio de la variable precio\n",
        "promedio_precio = df_argentina['precio'].mean()\n",
        "\n",
        "print(\"Promedio de precio:\", promedio_precio)"
      ]
    },
    {
      "cell_type": "markdown",
      "metadata": {
        "id": "JHdoMk26FDwc"
      },
      "source": [
        "El resultado muestra que el promedio de precio en el conjunto de datos para Bs. As. es de aproximadamente 24,780.22. Este valor representa un promedio de los precios de todas las propiedades listadas en el conjunto de datos."
      ]
    },
    {
      "cell_type": "markdown",
      "metadata": {
        "id": "6-ccqqP3Fftf"
      },
      "source": [
        "El cálculo del promedio es una métrica importante en el análisis de datos, ya que proporciona una comprensión general de la tendencia de los precios en el mercado. En este caso, el promedio de precio podría ser útil para entender cuál es el precio promedio que los viajeros pueden esperar pagar por una propiedad en Argentina según los datos del conjunto. Esto es útil tanto para los anfitriones que establecen sus tarifas como para los viajeros que buscan alojamiento en la región."
      ]
    },
    {
      "cell_type": "markdown",
      "metadata": {
        "id": "rRimB4XGCUqm"
      },
      "source": [
        "### ↪ Promedio del precio por tipo de alojamiento"
      ]
    },
    {
      "cell_type": "code",
      "execution_count": null,
      "metadata": {
        "id": "BPrHmy994-kr"
      },
      "outputs": [],
      "source": [
        "# Calcular el promedio de precio por tipo de alojamiento\n",
        "promedio_por_tipo = df_argentina.groupby('tipo_habitacion')['precio'].mean()\n",
        "\n",
        "print(\"Promedio de precio por tipo de alojamiento:\")\n",
        "print(promedio_por_tipo)"
      ]
    },
    {
      "cell_type": "markdown",
      "metadata": {
        "id": "nymrNGfHGKE7"
      },
      "source": [
        "El resultado muestra el promedio de precio para cada tipo de alojamiento en el conjunto de datos:\n",
        "\n",
        "- \"Entire home/apt\" (Casa o apartamento completo): $24,781.75\n",
        "\n",
        "- \"Hotel room\" (Habitación de hotel): $24,737.43\n",
        "\n",
        "- \"Private room\" (Habitación privada): $21,604.18\n",
        "\n",
        "- \"Shared room\" (Habitación compartida): $62,502.69"
      ]
    },
    {
      "cell_type": "markdown",
      "metadata": {
        "id": "mHJJUI0BGyMJ"
      },
      "source": [
        "Este análisis es esencial para comprender cómo varían los precios según el tipo de alojamiento en Bs. As. Ayuda tanto a los anfitriones a establecer tarifas competitivas como a los viajeros a elegir la opción que mejor se adapte a su presupuesto y preferencias.\n",
        "\n",
        "La gran diferencia en el precio promedio entre \"Shared room\" y los otros tipos de alojamiento podría indicar una mayor demanda o una oferta limitada en esa categoría."
      ]
    },
    {
      "cell_type": "markdown",
      "metadata": {
        "id": "XCgn_bFoRVtw"
      },
      "source": [
        "Graficamos para visualizar mejor"
      ]
    },
    {
      "cell_type": "code",
      "execution_count": null,
      "metadata": {
        "id": "z201AYIr7-YX"
      },
      "outputs": [],
      "source": [
        "# Colores personalizados\n",
        "colores_barras = ['skyblue', 'lightgreen', 'lightcoral', 'lightblue', 'pink']\n",
        "\n",
        "# Crear un gráfico de barras\n",
        "plt.figure(figsize=(10, 6))  # Tamaño del gráfico\n",
        "ax = promedio_por_tipo.plot(kind='bar', color=colores_barras)\n",
        "\n",
        "# Crear un estilo de fondo personalizado\n",
        "plt.style.use({\n",
        "    'axes.facecolor': 'whitesmoke',  # Color de fondo del gráfico\n",
        "    'axes.edgecolor': 'lightgrey',  # Color del borde del gráfico\n",
        "    'grid.color': 'white',  # Color de las líneas de cuadrícula\n",
        "    'axes.labelcolor': 'black'  # Color de las etiquetas\n",
        "    })\n",
        "\n",
        "# Personalizar el gráfico\n",
        "plt.title('Promedio de Precio por Tipo de Alojamiento Airbnb en Buenos Aires', y=1.06)\n",
        "plt.xlabel('Tipo de Alojamiento', labelpad=15)\n",
        "plt.ylabel('Precio Promedio', labelpad=15)\n",
        "plt.xticks(rotation=0)  # Rotar etiquetas en el eje X para mayor legibilidad\n",
        "\n",
        "# Alinear y ajustar los espaciados internos\n",
        "plt.tight_layout()\n",
        "\n",
        "# Agregar números en las barras con un mayor espaciado vertical y horizontal\n",
        "for i, v in enumerate(promedio_por_tipo):\n",
        "    ax.text(i, v, f'{v:.0f}', ha='center', va='bottom', fontsize=9, color='black', rotation='horizontal')\n",
        "\n",
        "# Mostrar el gráfico\n",
        "plt.show()\n"
      ]
    },
    {
      "cell_type": "markdown",
      "metadata": {
        "id": "37wlVGdr45VJ"
      },
      "source": [
        "### ↪ Promedio de ingresos"
      ]
    },
    {
      "cell_type": "markdown",
      "metadata": {
        "id": "Y-lXz9LA64UW"
      },
      "source": [
        "Calculamos el promedio de ingreso del set de datos (recordar que el df contiene la información de un trimestre: julio-agosto-setiembre 2023).\n",
        "\n",
        "Se tiene como objetivo calcular el ingreso promedio generado por los alojamientos en el conjunto de datos df_argentina."
      ]
    },
    {
      "cell_type": "code",
      "execution_count": null,
      "metadata": {
        "id": "F7adRQm66bXe"
      },
      "outputs": [],
      "source": [
        "# Calcular el ingreso total\n",
        "df_argentina['ingreso_total'] = df_argentina['precio'] * df_argentina['minimo_noches']\n",
        "ingreso_total = df_argentina['ingreso_total'].sum()\n",
        "\n",
        "# Calcular el número total de alojamientos\n",
        "total_alojamientos = len(df_argentina)\n",
        "\n",
        "# Calcular el ingreso promedio\n",
        "ingreso_promedio = ingreso_total / total_alojamientos\n",
        "\n",
        "print(\"Ingreso promedio:\", ingreso_promedio)"
      ]
    },
    {
      "cell_type": "markdown",
      "metadata": {
        "id": "uyNnl1pDIYAq"
      },
      "source": [
        "El resultado muestra que el ingreso promedio por alojamiento en el conjunto de datos de Airbnb para Bs.As. Argentina es de aproximadamente 188,728.35. Este valor representa el promedio de los ingresos generados por cada alojamiento en la ciudad."
      ]
    },
    {
      "cell_type": "markdown",
      "metadata": {
        "id": "GO9QNOmISG49"
      },
      "source": [
        "### ↪ Cantidad y % de alojamientos realizados por barrio"
      ]
    },
    {
      "cell_type": "code",
      "execution_count": null,
      "metadata": {
        "id": "Huh5u8Y0ScDp"
      },
      "outputs": [],
      "source": [
        "# Agrupar el DataFrame por el campo 'barrio' y contar la cantidad de alojamientos en cada barrio.\n",
        "alojamientos_por_barrio = df_argentina['barrio'].value_counts().reset_index()\n",
        "alojamientos_por_barrio.columns = ['barrio', 'cantidad_alojamientos']\n",
        "\n",
        "# Calcular el porcentaje de alojamientos en cada barrio.\n",
        "total_alojamientos = len(df_argentina)\n",
        "alojamientos_por_barrio['porcentaje'] = (alojamientos_por_barrio['cantidad_alojamientos'] / total_alojamientos) * 100\n",
        "\n",
        "# Ordenar el DataFrame por 'cantidad_alojamientos' en orden descendente.\n",
        "alojamientos_por_barrio = alojamientos_por_barrio.sort_values(by='cantidad_alojamientos', ascending=False)\n",
        "\n",
        "# Imprimir el resultado.\n",
        "print(alojamientos_por_barrio)"
      ]
    },
    {
      "cell_type": "markdown",
      "metadata": {
        "id": "-hJAX3C4JH9e"
      },
      "source": [
        "El resultado proporciona una visión detallada de la distribución de alojamientos en diferentes barrios de Bs.As. Argentina. Cada fila del DataFrame muestra el nombre del barrio, la cantidad de alojamientos en ese barrio y el porcentaje de alojamientos que representa con respecto al total.\n",
        "\n",
        "Este análisis es esencial para comprender qué áreas o barrios son más populares o tienen una mayor concentración de alojamientos en Airbnb en la ciudad de Bs. As. en el trimestre. Puede ser útil tanto para viajeros que buscan alojamiento en áreas específicas como para anfitriones que desean comprender la competencia en su área."
      ]
    },
    {
      "cell_type": "markdown",
      "metadata": {
        "id": "DuwZ6083UfzN"
      },
      "source": [
        "Elaboramos un gráfico para visualizar mejor el resultado"
      ]
    },
    {
      "cell_type": "code",
      "execution_count": null,
      "metadata": {
        "id": "stp0MS5OUDT1"
      },
      "outputs": [],
      "source": [
        "# Establecer un estilo de gráfico de barras\n",
        "sns.set(style=\"whitegrid\")\n",
        "\n",
        "# Crear un gráfico de barras horizontal para una mejor legibilidad\n",
        "plt.figure(figsize=(12, 8))\n",
        "ax = sns.barplot(x=\"cantidad_alojamientos\", y=\"barrio\", data=alojamientos_por_barrio, palette=\"viridis\")\n",
        "\n",
        "# Agregar etiquetas y título\n",
        "plt.xlabel(\"Cantidad de Alojamientos realizados\")\n",
        "plt.ylabel(\"Barrio\")\n",
        "plt.title(\"Cantidad de Alojamientos realizados por Barrio trimestre julio-agosto-setiembre 2023\")\n",
        "\n",
        "# Mostrar los valores en las barras\n",
        "for p in ax.patches:\n",
        "    width = p.get_width()\n",
        "    plt.text(width, p.get_y() + p.get_height() / 2, f\"{int(width)}\", ha=\"left\", va=\"center\")\n",
        "\n",
        "plt.tight_layout()\n",
        "plt.show()\n"
      ]
    },
    {
      "cell_type": "markdown",
      "metadata": {
        "id": "hp8hh5_OYvTN"
      },
      "source": [
        "### ↪ Cantidad de alojamientos que tuvo cada anfitrion y barrio"
      ]
    },
    {
      "cell_type": "code",
      "execution_count": null,
      "metadata": {
        "id": "0lBVaE4zXwVF"
      },
      "outputs": [],
      "source": [
        "# Agrupar el DataFrame por 'id_anfitrion' y contar la cantidad de alojamientos.\n",
        "alojamientos_por_anfitrion = df_argentina.groupby(['id_anfitrion', 'nombre_anfitrion'])['id'].count().reset_index()\n",
        "alojamientos_por_anfitrion.columns = ['id_anfitrion', 'nombre_anfitrion', 'cantidad_alojamientos']\n",
        "\n",
        "# Encontrar la ubicación de cada anfitrión.\n",
        "ubicacion_por_anfitrion = df_argentina.groupby(['id_anfitrion', 'nombre_anfitrion'])['barrio'].first().reset_index()\n",
        "\n",
        "# Combinar los DataFrames en uno solo.\n",
        "resultado = pd.merge(alojamientos_por_anfitrion, ubicacion_por_anfitrion, on=['id_anfitrion', 'nombre_anfitrion'])\n",
        "\n",
        "# Crear un widget de DataFrame interactivo\n",
        "df_widget = widgets.Output()\n",
        "with df_widget:\n",
        "    display(resultado)\n",
        "\n",
        "# Mostrar el widget\n",
        "df_widget\n"
      ]
    },
    {
      "cell_type": "markdown",
      "metadata": {
        "id": "Fza2aDjGKVFk"
      },
      "source": [
        "Esta información es valiosa para comprender la actividad de los anfitriones y su distribución geográfica. Los usuarios pueden navegar por la tabla para explorar detalles sobre cada anfitrión y sus alojamientos."
      ]
    },
    {
      "cell_type": "markdown",
      "metadata": {
        "id": "Anu5VHSmeGl7"
      },
      "source": [
        "Exportemos el resultado a un archivo de excel"
      ]
    },
    {
      "cell_type": "code",
      "execution_count": null,
      "metadata": {
        "id": "e2HExOkddKyl"
      },
      "outputs": [],
      "source": [
        "# from google.colab import files\n",
        "\n",
        "## Nombre del archivo de Excel de salida\n",
        "# archivo_excel = \"resultado_anfitriones.xlsx\"\n",
        "\n",
        "# Exportar los datos a un archivo Excel\n",
        "# resultado.to_excel(archivo_excel, index=False)\n",
        "\n",
        "## Descargar el archivo automáticamente\n",
        "# files.download(archivo_excel)\n"
      ]
    },
    {
      "cell_type": "markdown",
      "metadata": {
        "id": "DAnIkViug8-o"
      },
      "source": [
        "Apliquemos el filtro por \"id_anfitrión\" para poder ver la cantidad de alojamientos por anfitrión y barrios"
      ]
    },
    {
      "cell_type": "code",
      "execution_count": null,
      "metadata": {
        "id": "WYXJXSzGYA7l"
      },
      "outputs": [],
      "source": [
        "# Agrupar el DataFrame por 'id_anfitrion' y contar la cantidad de alojamientos.\n",
        "alojamientos_por_anfitrion = df_argentina.groupby(['id_anfitrion', 'nombre_anfitrion'])['id'].count().reset_index()\n",
        "alojamientos_por_anfitrion.columns = ['id_anfitrion', 'nombre_anfitrion', 'cantidad_alojamientos']\n",
        "\n",
        "# Encontrar la ubicación de cada anfitrión.\n",
        "ubicacion_por_anfitrion = df_argentina.groupby(['id_anfitrion', 'nombre_anfitrion'])['barrio'].first().reset_index()\n",
        "\n",
        "# Combinar los DataFrames en uno solo.\n",
        "resultado = pd.merge(alojamientos_por_anfitrion, ubicacion_por_anfitrion, on=['id_anfitrion', 'nombre_anfitrion'])\n",
        "\n",
        "# Crear un widget de filtro por id_anfitrion\n",
        "filtro_id_anfitrion = widgets.Dropdown(\n",
        "    options=['Todos'] + resultado['id_anfitrion'].unique().tolist(),\n",
        "    value='Todos',\n",
        "    description='ID del Anfitrión:'\n",
        ")\n",
        "\n",
        "# Función para aplicar el filtro\n",
        "def filtrar_datos(id_anfitrion):\n",
        "    if id_anfitrion == 'Todos':\n",
        "        datos_filtrados = resultado\n",
        "    else:\n",
        "        datos_filtrados = resultado[resultado['id_anfitrion'] == id_anfitrion]\n",
        "\n",
        "    with output:\n",
        "        output.clear_output()\n",
        "        display(datos_filtrados)\n",
        "\n",
        "# Aplicar el filtro al interactuar con el widget\n",
        "output = widgets.Output()\n",
        "display(filtro_id_anfitrion, output)\n",
        "filtro_id_anfitrion.observe(lambda change: filtrar_datos(change.new), names='value')\n"
      ]
    },
    {
      "cell_type": "markdown",
      "metadata": {
        "id": "jIwBemf8gqhV"
      },
      "source": [
        "### ↪ % de propietarios con un alojamiento"
      ]
    },
    {
      "cell_type": "code",
      "execution_count": null,
      "metadata": {
        "id": "t58_2gIgfi5P"
      },
      "outputs": [],
      "source": [
        "# Identificar propietarios únicos\n",
        "prop_unicos = df_argentina[['id_anfitrion', 'nombre_anfitrion']].drop_duplicates()\n",
        "\n",
        "# Contar la cantidad de propietarios únicos\n",
        "total_prop_unicos = prop_unicos.shape[0]\n",
        "\n",
        "# Identificar propietarios únicos con exactamente 1 alojamiento\n",
        "prop_un_alojamiento = df_argentina.groupby(['id_anfitrion', 'nombre_anfitrion'])['id'].count().reset_index()\n",
        "prop_un_alojamiento = prop_un_alojamiento[prop_un_alojamiento['id'] == 1]\n",
        "\n",
        "# Contar la cantidad de propietarios con exactamente 1 alojamiento\n",
        "total_prop_un_alojamiento = prop_un_alojamiento.shape[0]\n",
        "\n",
        "# Calcular el porcentaje de propietarios con 1 alojamiento\n",
        "porc_prop_un_alojamiento = (total_prop_un_alojamiento / total_prop_unicos) * 100\n",
        "\n",
        "print(f\"Porcentaje de propietarios con 1 alojamiento: {porc_prop_un_alojamiento:.2f}%\")"
      ]
    },
    {
      "cell_type": "markdown",
      "metadata": {
        "id": "B1hRScAUNC7c"
      },
      "source": [
        "El resultado muestra que aproximadamente el 76.77% de los propietarios en el conjunto de datos de Airbnb en Bs.As. en el trimestre tienen exactamente 1 alojamiento listado. Esto significa que la gran mayoría de los propietarios tienen una sola propiedad para alquilar.\n",
        "\n",
        "Este análisis puede ser útil para comprender la diversidad de propietarios en la plataforma y cuántos de ellos tienen un enfoque en un solo alojamiento."
      ]
    },
    {
      "cell_type": "markdown",
      "metadata": {
        "id": "vo0-kvd9gWmC"
      },
      "source": [
        "### ↪ Anfitriones Top"
      ]
    },
    {
      "cell_type": "markdown",
      "metadata": {
        "id": "byhdL5FjgqSu"
      },
      "source": [
        "Lista de anfitriones Top basada en el dataframe de Bs.As. trimestre julio-agosto-setiembre 2023"
      ]
    },
    {
      "cell_type": "code",
      "execution_count": null,
      "metadata": {
        "id": "pvdXW5RxfMWZ"
      },
      "outputs": [],
      "source": [
        "# Calcular la cantidad de alojamientos por anfitrión y ordenar en orden descendente\n",
        "anfitriones_top = df_argentina.groupby(['id_anfitrion', 'nombre_anfitrion'])['id'].count().reset_index()\n",
        "anfitriones_top.columns = ['id_anfitrion', 'nombre_anfitrion', 'cantidad_alojamientos']\n",
        "anfitriones_top = anfitriones_top.sort_values(by='cantidad_alojamientos', ascending=False)\n",
        "\n",
        "# Seleccionar los 20 anfitriones principales (ajusta el número según tus necesidades)\n",
        "top_anfitriones = anfitriones_top.head(20)\n",
        "\n",
        "# Mostrar la lista de los 20 anfitriones principales\n",
        "print(\"Los 20 anfitriones con la mayor cantidad de alojamientos:\")\n",
        "print(top_anfitriones)"
      ]
    },
    {
      "cell_type": "markdown",
      "metadata": {
        "id": "7IBR2Mx_Z0el"
      },
      "source": [
        "### ↪ Qué nos pueden decir las reseñas?"
      ]
    },
    {
      "cell_type": "markdown",
      "metadata": {
        "id": "VAztzYWEZiCB"
      },
      "source": [
        "Analicemos un poco el tema de las reseñas"
      ]
    },
    {
      "cell_type": "code",
      "execution_count": null,
      "metadata": {
        "id": "y7LH0YDEl2Fk"
      },
      "outputs": [],
      "source": [
        "# visualicemos nuevamente el df_argentina para chequear su estado\n",
        "df_argentina.head()"
      ]
    },
    {
      "cell_type": "markdown",
      "metadata": {
        "id": "qbWg2g4aaNQ2"
      },
      "source": [
        "Calcular la mediana y el promedio de reseñas:"
      ]
    },
    {
      "cell_type": "code",
      "execution_count": null,
      "metadata": {
        "id": "D1WuMVnBaPml"
      },
      "outputs": [],
      "source": [
        "# Calcular la mediana y el promedio de reseñas\n",
        "mediana_resenas = df_argentina['numero_reseñas'].median()\n",
        "promedio_resenas = df_argentina['numero_reseñas'].mean()\n",
        "\n",
        "print(f\"Mediana de reseñas: {mediana_resenas}\")\n",
        "print(f\"Promedio de reseñas: {promedio_resenas}\")"
      ]
    },
    {
      "cell_type": "markdown",
      "metadata": {
        "id": "FTIVfK9shAMd"
      },
      "source": [
        "En base a los resutlados podemos sacar algunas observaciones:\n",
        "\n",
        "- La mediana es significativamente más baja que el promedio, lo que sugiere que hay algunos alojamientos con un gran número de reseñas que están inflando el promedio.\n",
        "\n",
        "- El promedio más alto indica que algunos alojamientos han recibido un gran número de reseñas, posiblemente debido a su popularidad o tiempo en la plataforma. Al mismo tiempo, la mediana más baja indica que la mayoría de los alojamientos tienen un número relativamente bajo de reseñas.\n",
        "\n",
        "- Los alojamientos extremadamente populares con un gran número de reseñas pueden estar sesgando el promedio hacia arriba. Esto significa que unos pocos alojamientos con muchas reseñas pueden estar teniendo un impacto significativo en el promedio.\n",
        "\n",
        "- La diferencia entre la mediana y el promedio sugiere que hay una variación significativa en la calidad y popularidad de los alojamientos en el conjunto de datos. Algunos alojamientos son muy populares y tienen muchas reseñas, mientras que otros tienen menos reseñas."
      ]
    },
    {
      "cell_type": "markdown",
      "metadata": {
        "id": "ZWlvVLK8jb7g"
      },
      "source": [
        "Explorar la distribución de reseñas  utilizando un gráfico para visualizar cómo se distribuyen las reseñas en el conjunto de datos y determinar si hay una concentración en un rango particular de valores."
      ]
    },
    {
      "cell_type": "code",
      "execution_count": null,
      "metadata": {
        "id": "mXLTx-r9izre"
      },
      "outputs": [],
      "source": [
        "# Establecer el estilo de la gráfica con Seaborn\n",
        "sns.set_style(\"whitegrid\")\n",
        "\n",
        "# Crear un histograma\n",
        "plt.figure(figsize=(10, 6))  # Ajustar el tamaño de la figura\n",
        "plt.hist(df_argentina['numero_reseñas'], bins=20, color='skyblue', edgecolor='black', alpha=0.7)\n",
        "plt.xlabel('Número de Reseñas')\n",
        "plt.ylabel('Frecuencia')\n",
        "plt.title('Distribución de Reseñas en Bs As')\n",
        "\n",
        "# Agregar una línea vertical para la mediana\n",
        "median = df_argentina['numero_reseñas'].median()\n",
        "plt.axvline(median, color='red', linestyle='dashed', linewidth=2, label=f'Mediana: {median}')\n",
        "\n",
        "# Agregar una leyenda\n",
        "plt.legend()\n",
        "\n",
        "# Mostrar un cuadro con estadísticas\n",
        "plt.text(150, 1000, f'Mediana: {median}', bbox=dict(facecolor='white', alpha=0.8))\n",
        "\n",
        "# Personalizar el diseño\n",
        "plt.grid(True, linestyle='--', alpha=0.7)\n",
        "sns.despine(left=True)  # Quitar los bordes izquierdos para una apariencia más limpia\n",
        "\n",
        "# Mostrar el histograma\n",
        "plt.show()"
      ]
    },
    {
      "cell_type": "markdown",
      "metadata": {
        "id": "0SSwiLnkl1uJ"
      },
      "source": [
        "Estudiemos un poco las correlaciones"
      ]
    },
    {
      "cell_type": "code",
      "execution_count": null,
      "metadata": {
        "id": "2_ZYUNTve5Em"
      },
      "outputs": [],
      "source": [
        "# Calcula la matriz de correlación de Pearson (variables numéricas)\n",
        "correlac_matrix = df_argentina.corr()\n",
        "\n",
        "# Filtra las correlaciones de 'numero_reseñas' con otras variables\n",
        "correlac_resenas = correlac_matrix['numero_reseñas']\n",
        "\n",
        "# Imprime las correlaciones\n",
        "print(\"Correlaciones con 'numero_reseñas':\")\n",
        "print(correlac_resenas)"
      ]
    },
    {
      "cell_type": "markdown",
      "metadata": {
        "id": "dHpEYx9jmZx6"
      },
      "source": [
        "EL resultado deja evidencia de que no hay correlaciones fuertes entre la variable \"numero_reseñas\" y el resto.\n",
        "Por ejemplo una correlación de -0.010 está muy cerca de cero, lo que sugiere que el precio y el número de reseñas no tienen una relación lineal significativa. Esto significa que, en general, el precio de un alojamiento no parece estar fuertemente relacionado con la cantidad de reseñas que recibe. En otras palabras, un precio más alto o más bajo no parece influir significativamente en la cantidad de reseñas que los alojamientos reciben."
      ]
    },
    {
      "cell_type": "markdown",
      "metadata": {
        "id": "EULKCndRpXyy"
      },
      "source": [
        "Alojamientos con pocas o ninguna reseña:"
      ]
    },
    {
      "cell_type": "code",
      "execution_count": null,
      "metadata": {
        "id": "9OXFt6A5o5o3"
      },
      "outputs": [],
      "source": [
        "# Filtrar alojamientos con menos de 5 reseñas ordenados de mayor a menor\n",
        "aloj_pocas_resenas = df_argentina[df_argentina['numero_reseñas'] < 5].sort_values(by='numero_reseñas', ascending=False)\n",
        "\n",
        "# Imprimir los primeros 10 alojamientos con pocas reseñas\n",
        "print(aloj_pocas_resenas.head(10))"
      ]
    },
    {
      "cell_type": "markdown",
      "metadata": {
        "id": "1uQh4a2xqhjv"
      },
      "source": [
        "Alojamientos populares:"
      ]
    },
    {
      "cell_type": "code",
      "execution_count": null,
      "metadata": {
        "id": "qKlBvF6ArTNT"
      },
      "outputs": [],
      "source": [
        "# Filtrar alojamientos con más de 100 reseñas (ajusta el valor según tu criterio), orden descendente\n",
        "aloj_populares = df_argentina[df_argentina['numero_reseñas'] > 100].sort_values(by='numero_reseñas', ascending=False)\n",
        "\n",
        "# Mostrar los primeros 10 alojamientos populares en una tabla\n",
        "pd.set_option('display.max_columns', None)  # Mostrar todas las columnas\n",
        "pd.set_option('display.max_colwidth', None)  # Mostrar todo el contenido de las celdas\n",
        "\n",
        "print(\"Primeros 10 alojamientos populares (ordenados por número de reseñas en orden descendente):\")\n",
        "display(aloj_populares.head(10))\n"
      ]
    },
    {
      "cell_type": "markdown",
      "metadata": {
        "id": "34ya_cjrvZ0J"
      },
      "source": [
        "Comparaciones por tipo de alojamiento o ubicación:"
      ]
    },
    {
      "cell_type": "code",
      "execution_count": null,
      "metadata": {
        "id": "cR-zKESksaF-"
      },
      "outputs": [],
      "source": [
        "# Comparar el número de reseñas entre diferentes tipos de alojamiento\n",
        "resenas_por_tipo_ordenado = df_argentina.groupby('tipo_habitacion')['numero_reseñas'].mean().sort_values(ascending=False)\n",
        "\n",
        "print(\"Número medio de reseñas por tipo de habitación (ordenado en orden descendente):\")\n",
        "print(resenas_por_tipo_ordenado)"
      ]
    },
    {
      "cell_type": "markdown",
      "metadata": {
        "id": "CqbS5v3Iw15u"
      },
      "source": [
        "Dado los resutlados el tipo de habitación con mayor número de reseñas es el tipo de habitación \"Entire home/apt\", con un promedio de aproximadamente 22.92 reseñas. Esto sugiere que, en promedio, alojamientos de este tipo reciben más reseñas que los demás.\n",
        "Comprender cómo los diferentes tipos de habitación impactan en la cantidad de reseñas que reciben. Por ejemplo, es común que los alojamientos completos o \"Entire home/apt\" reciban más reseñas que las habitaciones compartidas o \"Shared room\". Esto puede deberse a las experiencias que los huéspedes tienen en diferentes tipos de alojamientos."
      ]
    },
    {
      "cell_type": "code",
      "execution_count": null,
      "metadata": {
        "id": "BhNSiQLgthJr"
      },
      "outputs": [],
      "source": [
        "# Comparar el número de reseñas entre diferentes ubicaciones\n",
        "resenas_por_ubicacion = df_argentina.groupby('barrio')['numero_reseñas'].mean().sort_values(ascending=False)\n",
        "\n",
        "print(resenas_por_ubicacion)"
      ]
    },
    {
      "cell_type": "markdown",
      "metadata": {
        "id": "0opdqZdmya4U"
      },
      "source": [
        "Algunas observaciones basadas en el resultado:\n",
        "\n",
        "Los barrios \"San Nicolas\", \"Palermo\" y \"San Telmo\" tienen los números medios más altos de reseñas, con valores de aproximadamente 28.98, 27.44 y 25.35, respectivamente. Esto sugiere que los alojamientos en estos barrios tienden a recibir más reseñas en promedio.\n",
        "\n",
        "Hay una amplia variabilidad en el número medio de reseñas entre los diferentes barrios. Mientras que algunos barrios como \"San Nicolas\" y \"Palermo\" tienen números medios significativamente altos, otros como \"Villa Real\", \"Villa Riachuelo\" y \"Villa Soldati\" tienen números medios de reseñas muy bajos o incluso cero.\n",
        "\n",
        "Esta información puede ser útil para comprender la popularidad relativa de los barrios en términos de alojamientos con reseñas. Los barrios más populares pueden ser atractivos para los turistas y viajeros, lo que podría explicar el mayor número de reseñas.\n",
        "\n",
        "Es importante tener en cuenta que la cantidad de reseñas puede depender de varios factores, como la ubicación, la oferta de alojamientos, la afluencia de turistas y más. Los resultados proporcionan una visión general de la actividad de reseñas por barrio en el conjunto de datos, pero se deben considerar otros factores para obtener una comprensión completa.\n",
        "\n",
        "\n"
      ]
    },
    {
      "cell_type": "markdown",
      "metadata": {
        "id": "t55H8_mxyRdJ"
      },
      "source": [
        "Recordar:\n",
        "La interpretación de los resultados debe realizarse en función del contexto de los datos y los objetivos de análisis específicos.\n",
        "Tener en cuenta que estos resultados reflejan una relación observada en los datos y no implican necesariamente causalidad."
      ]
    },
    {
      "cell_type": "markdown",
      "metadata": {
        "id": "WOeGnKhDoRwK"
      },
      "source": [
        "Anfitriones destacados:"
      ]
    },
    {
      "cell_type": "code",
      "execution_count": null,
      "metadata": {
        "id": "ReYQkZifm7-f"
      },
      "outputs": [],
      "source": [
        "# Agrupar el DataFrame por el nombre del anfitrión y calcular la cantidad de alojamientos y el número total de reseñas para cada anfitrión.\n",
        "anfitriones_destacados = df_argentina.groupby('nombre_anfitrion').agg({'id': 'count', 'numero_reseñas': 'sum'}).reset_index()\n",
        "\n",
        "# Renombrar las columnas para mayor claridad.\n",
        "anfitriones_destacados.columns = ['nombre_anfitrion', 'cantidad_alojamientos', 'cantidad_reseñas']\n",
        "\n",
        "# Ordenar los anfitriones destacados por el número de alojamientos en orden descendente.\n",
        "anfitriones_destacados = anfitriones_destacados.sort_values(by='cantidad_alojamientos', ascending=False)\n",
        "\n",
        "# Mostrar los 10 anfitriones destacados (puedes ajustar el número según tus necesidades).\n",
        "print(anfitriones_destacados.head(10))"
      ]
    },
    {
      "cell_type": "markdown",
      "metadata": {
        "id": "qefjKE7jhLkI"
      },
      "source": [
        "### ↪ Mapa interactivo Buenos Aires | Airbnb"
      ]
    },
    {
      "cell_type": "markdown",
      "metadata": {
        "id": "s2K5lSRqzm4O"
      },
      "source": [
        "Mapa interactivo de Buenos Aires con todos los marcadores de los alojamientos realizados.\n",
        "\n",
        "Utilizaremos la librería folium para crear el mapa interactivo.\n",
        "Los alojamientos están agrupados en clústeres para facilitar la visualización de múltiples puntos en el mapa. Los usuarios pueden hacer clic en los marcadores para ver más detalles sobre cada alojamiento. Este tipo de visualización es útil para identificar la distribución geográfica de los alojamientos en la ciudad y puede contener información valiosa para los usuarios que buscan alojamiento en Buenos Aires."
      ]
    },
    {
      "cell_type": "code",
      "execution_count": null,
      "metadata": {
        "id": "ZxoSQWdxkg2C"
      },
      "outputs": [],
      "source": [
        "#!pip3 install folium==0.5.0\n",
        "import folium\n",
        "\n",
        "print('Folium instalado e importado!')"
      ]
    },
    {
      "cell_type": "code",
      "execution_count": null,
      "metadata": {
        "id": "qFz7G6nLkxDm"
      },
      "outputs": [],
      "source": [
        "from folium import plugins\n",
        "\n",
        "# variables para latitud y longitud de la ciudad de Buenos Aires (Argentina)\n",
        "latitud_bsas = -34.61315\n",
        "longitud_bsas = -58.37723\n",
        "\n",
        "# crear mapa\n",
        "mapa_bsas = folium.Map(location = [latitud_bsas, longitud_bsas], zoom_start = 12)\n",
        "\n",
        "# crear una instancia de un objeto de grupo de marcas para los alojamientos en el df\n",
        "alojamientos = plugins.MarkerCluster().add_to(mapa_bsas)\n",
        "\n",
        "# recorrer el marco de datos y agreguar cada punto de datos al grupo de marcas\n",
        "for lat, lng, label, in zip(df_argentina.latitude, df_argentina.longitude, df_argentina.nombre):\n",
        "    folium.Marker(\n",
        "        location=[lat, lng],\n",
        "        icon=None,\n",
        "        popup=label,\n",
        "    ).add_to(alojamientos)\n",
        "\n",
        "# visualizar el mapa\n",
        "mapa_bsas"
      ]
    },
    {
      "cell_type": "markdown",
      "metadata": {
        "id": "QROOiTsXgKnn"
      },
      "source": [
        "### 🔊 Algunas conclusiones..."
      ]
    },
    {
      "cell_type": "markdown",
      "metadata": {
        "id": "4xFlFtDLg5Ky"
      },
      "source": [
        "🔹 `Destinos`:\n",
        "\n",
        "Buenos Aires ofrece una variedad de barrios únicos para explorar. Los datos revelan cuáles fueron los destinos más buscados durante este período:\n",
        "\n",
        "- San Nicolás: este barrio céntrico con casi 29 reseñas de media, fue uno de los destinos favoritos de los viajeros.\n",
        "- Palermo: Con una media de 27.44 reseñas, atrae a aquellos que buscan experiencias de moda y estilo de vida.\n",
        "- San Telmo: Con una media de 25.35 reseñas, te sumerge en la historia y la cultura de la ciudad.\n",
        "\n",
        "🔹 `Variedad de Alojamiento:`\n",
        "\n",
        "Los viajeros tuvieron una amplia gama de opciones de alojamiento en Buenos Aires. Los datos revelan cuáles fueron los tipos de alojamiento más populares:\n",
        "\n",
        "- Alojamiento completo (Entire home/apt): Con una media de 22.92 reseñas, esta opción ofrece privacidad y comodidad.\n",
        "- Habitación privada (Private room): Con una media de 15.58 reseñas, estas habitaciones ofrecen una experiencia más íntima.\n",
        "- Habitación de hotel (Hotel room): Con 14.59 reseñas de media, los hoteles ofrecen comodidades adicionales y servicio.\n",
        "\n",
        "\n",
        "🔹 `Anfitriones Destacados:`\n",
        "\n",
        "Encontramos a algunos anfitriones excepcionales que se destacaron por su hospitalidad y cantidad de alojamientos:\n",
        "\n",
        "- Anfitrión Destacado 1: **Pablo** - Con 420 alojamientos y 7914 reseñas.\n",
        "- Anfitrión Destacado 2: **Federico** - Con 409 alojamientos y 7294 reseñas.\n",
        "- Anfitrión Destacado 3: **Diego** - Con 350 alojamientos y 8290 reseñas."
      ]
    },
    {
      "cell_type": "markdown",
      "metadata": {
        "id": "JYYN0oK3tUxw"
      },
      "source": [
        "### ↪ Visualización final"
      ]
    },
    {
      "cell_type": "code",
      "execution_count": null,
      "metadata": {
        "id": "6m_OR9Vi0Z-L"
      },
      "outputs": [],
      "source": [
        "# Descargamos el df_argentina para utilizarlo en Power BI, para nuestro Dashboard\n",
        "\n",
        "from google.colab import files\n",
        "\n",
        "# Nombre del archivo de Excel de salida\n",
        "datosBsAs = \"datosBsAs.xlsx\"\n",
        "\n",
        "# Exportar los datos a un archivo Excel\n",
        "df_argentina.to_excel(datosBsAs, index=False)\n",
        "\n",
        "# Descargar el archivo automáticamente\n",
        "files.download(datosBsAs)"
      ]
    },
    {
      "cell_type": "markdown",
      "metadata": {
        "id": "RH0lOogCsyhD"
      },
      "source": [
        "Visualización en proceso..."
      ]
    }
  ],
  "metadata": {
    "colab": {
      "toc_visible": true,
      "provenance": []
    },
    "kernelspec": {
      "display_name": "Python 3",
      "name": "python3"
    },
    "language_info": {
      "name": "python"
    }
  },
  "nbformat": 4,
  "nbformat_minor": 0
}